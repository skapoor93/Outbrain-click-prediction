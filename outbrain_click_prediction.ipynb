{
 "cells": [
  {
   "cell_type": "markdown",
   "metadata": {},
   "source": [
    "# Outbrain Click Prediction"
   ]
  },
  {
   "cell_type": "code",
   "execution_count": 3,
   "metadata": {},
   "outputs": [],
   "source": [
    "import pandas as pd\n",
    "import numpy as np\n",
    "from sklearn.model_selection import train_test_split\n",
    "from sklearn.tree import DecisionTreeClassifier\n",
    "from sklearn.linear_model import LogisticRegression\n",
    "from sklearn.ensemble import RandomForestClassifier\n",
    "from sklearn.neighbors import KNeighborsClassifier\n",
    "from sklearn.metrics import accuracy_score\n",
    "import sklearn.preprocessing as preprocess\n",
    "from sklearn.decomposition import PCA\n",
    "from sklearn.model_selection import cross_val_score\n",
    "from sklearn import svm\n",
    "from sklearn.utils import shuffle\n",
    "import seaborn as sns\n",
    "import matplotlib.pyplot as plt\n",
    "from sklearn import metrics"
   ]
  },
  {
   "cell_type": "markdown",
   "metadata": {},
   "source": [
    "# Reading the file From Github Repo"
   ]
  },
  {
   "cell_type": "code",
   "execution_count": 2,
   "metadata": {},
   "outputs": [],
   "source": [
    "df = pd.read_csv(\"training.csv\")"
   ]
  },
  {
   "cell_type": "code",
   "execution_count": 3,
   "metadata": {},
   "outputs": [
    {
     "name": "stdout",
     "output_type": "stream",
     "text": [
      "                ID          datetime     siteid  offerid  category  merchant  \\\n",
      "0        IDsrk7SoW  14-01-2017 09:42  4709696.0   887235     17714  20301556   \n",
      "1        IDmMSxHur  18-01-2017 17:50  5189467.0   178235     21407   9434818   \n",
      "2        IDVLNN0Ut  11-01-2017 12:46    98480.0   518539     25085   2050923   \n",
      "3        ID32T6wwQ  17-01-2017 10:18  8896401.0   390352     40339  72089744   \n",
      "4        IDqUShzMg  14-01-2017 16:02  5635120.0   472937     12052  39507200   \n",
      "5        IDjO9XQ1Z  14-01-2017 12:08  2729292.0   961176     33638  47079934   \n",
      "6        IDUuVWVrO  12-01-2017 13:07  7007059.0   664666     68847  58604466   \n",
      "7        IDFnmhUgG  13-01-2017 05:58  7295565.0   144797     33638  23981625   \n",
      "8        IDeFBJfzG  18-01-2017 13:00  2116058.0   376073     15912  30860214   \n",
      "9        IDmyijsRf  14-01-2017 12:38  5329483.0   952097     89680  74363610   \n",
      "10       IDGQGYgdk  14-01-2017 11:06  6436389.0   949077     76239  65017662   \n",
      "11       IDeS7iMpY  12-01-2017 03:36  6401189.0    68770     43612  74868704   \n",
      "12       IDZHmfQix  18-01-2017 14:52  6139730.0   781977     97863  56008048   \n",
      "13       IDdPZWVCs  15-01-2017 21:43  6718234.0   433512     43612  57517812   \n",
      "14       IDTLINkkm  18-01-2017 10:11  2797042.0   901997     17714  26391770   \n",
      "15       IDGy4Wuri  12-01-2017 13:39  6313991.0    31957     71642  27723861   \n",
      "16       IDU8ukCsv  10-01-2017 15:28   469603.0   385750     93286   7122654   \n",
      "17       IDuAAOAmP  14-01-2017 14:26  4260541.0   301045     17714  26391770   \n",
      "18       IDXCdNpGo  18-01-2017 16:38  7444049.0   493707     12211  58163546   \n",
      "19       IDIUehaGQ  18-01-2017 09:10   291279.0   640355     41706   4000296   \n",
      "20       IDTERaNhD  17-01-2017 12:45    48650.0   746289     81229  35819606   \n",
      "21       ID1lU14Ye  10-01-2017 17:38  7147868.0   843837       904   2050923   \n",
      "22       IDf7miO2n  13-01-2017 12:58  6510239.0   437670     34670  78365183   \n",
      "23       IDbnADIXD  14-01-2017 15:01  3723198.0   539380     10345  33683592   \n",
      "24       IDvdxeuet  19-01-2017 10:33  8538828.0   771257     73248  57777528   \n",
      "25       IDHq4islp  16-01-2017 14:00  5914861.0   512213     42227  95013373   \n",
      "26       IDocQA3op  18-01-2017 06:04  3230001.0   681102     96184  93157824   \n",
      "27       IDlxCNF5H  14-01-2017 13:31  8672716.0   287296     79668  81758577   \n",
      "28       IDjWl6pbZ  11-01-2017 17:25  4989750.0   461432     73248  83960204   \n",
      "29       IDnBzdWGA  10-01-2017 14:38  8022638.0   416718     64452  65017662   \n",
      "...            ...               ...        ...      ...       ...       ...   \n",
      "1048545  IDRo15MS7  13-01-2017 08:39  7400214.0   134694     54343  71193712   \n",
      "1048546  IDMxYgnpW  11-01-2017 16:54  9513402.0   213896     17714  26391770   \n",
      "1048547  ID4xcZYJO  16-01-2017 12:34  7841213.0   463384     40339  30860214   \n",
      "1048548  IDdyTGS21  20-01-2017 11:26  9631468.0   197452     42227  13742268   \n",
      "1048549  IDtbkr06U  15-01-2017 18:16  5849272.0   905664     14345    555603   \n",
      "1048550  IDpAIYEVz  13-01-2017 11:54  7801762.0   628311     40339  50706198   \n",
      "1048551  IDfAATodL  11-01-2017 18:18  9239851.0   839501     33638    555603   \n",
      "1048552  IDyIozCZ8  14-01-2017 12:21        NaN   369601     65251  57977218   \n",
      "1048553  ID8PySV5X  13-01-2017 13:43  1095243.0    32172     82877  38492160   \n",
      "1048554  IDAktyo1e  11-01-2017 18:50  8955291.0   558469      8467  22339104   \n",
      "1048555  IDxs23zHy  11-01-2017 13:25        NaN   579093     37815  34211073   \n",
      "1048556  IDhVlXQcI  11-01-2017 16:28  2766596.0   992381     42227  48913006   \n",
      "1048557  IDpfnAw1Y  20-01-2017 12:53   984981.0   164941     42227  83172146   \n",
      "1048558  IDulwGu6P  10-01-2017 12:45   814990.0   301389     33638    555603   \n",
      "1048559  IDMrRnBE8  15-01-2017 09:58  1466152.0   518667     73248  61940782   \n",
      "1048560  ID40csLly  13-01-2017 10:15  9574574.0   334008      6906  99510044   \n",
      "1048561  IDUxSxaf4  12-01-2017 17:20  4403738.0   819596     53956  52437512   \n",
      "1048562  IDAHsmEsc  13-01-2017 10:20        NaN   152610     31365  20301556   \n",
      "1048563  ID2PqkL9K  18-01-2017 09:53  1016035.0   588714     92704  87213653   \n",
      "1048564  IDyBHpeCK  10-01-2017 02:05  2513971.0   118283      6906  99510044   \n",
      "1048565  ID7vr5dIJ  16-01-2017 07:00  1021808.0   238520     46450  47079934   \n",
      "1048566  ID8oUK2me  17-01-2017 12:26  3032043.0   939067     67817  51368560   \n",
      "1048567  IDramRsq2  20-01-2017 17:45   393721.0   706479     15912  30860214   \n",
      "1048568  ID9ICCAPE  20-01-2017 17:13  9210864.0   653799     11837  43179292   \n",
      "1048569  ID9Fnm6F4  10-01-2017 18:41        NaN   705545     12211  37017006   \n",
      "1048570  IDM8WzigB  11-01-2017 14:52  5604912.0   874854     33949  48644561   \n",
      "1048571  IDGxw80iw  16-01-2017 16:47        NaN   751397     35368  74868704   \n",
      "1048572  IDgfJAS1P  13-01-2017 09:19  9385494.0   965311     40339  37135965   \n",
      "1048573  ID5PG0Xmd  15-01-2017 17:00  4548050.0   489739     86652  29916445   \n",
      "1048574  IDn3sDeit  17-01-2017 17:37  6324097.0   615606     14345    555603   \n",
      "\n",
      "        countrycode         browserid    devid  click  \n",
      "0                 e           Firefox      NaN      0  \n",
      "1                 b   Mozilla Firefox  Desktop      0  \n",
      "2                 a              Edge      NaN      0  \n",
      "3                 c           Firefox   Mobile      0  \n",
      "4                 d   Mozilla Firefox  Desktop      0  \n",
      "5                 e     Google Chrome   Mobile      0  \n",
      "6                 b              Edge      NaN      0  \n",
      "7                 b           Firefox   Mobile      0  \n",
      "8                 c              Edge   Tablet      0  \n",
      "9                 a              Edge   Tablet      0  \n",
      "10                a              Edge   Tablet      0  \n",
      "11                b     Google Chrome   Mobile      0  \n",
      "12                b   Mozilla Firefox  Desktop      0  \n",
      "13                c               NaN  Desktop      1  \n",
      "14                a           Mozilla  Desktop      0  \n",
      "15                a              Edge   Tablet      0  \n",
      "16                a     Google Chrome   Mobile      1  \n",
      "17                b           Firefox   Mobile      0  \n",
      "18                a     Google Chrome   Mobile      0  \n",
      "19                a   Mozilla Firefox  Desktop      0  \n",
      "20                b              Edge   Tablet      0  \n",
      "21                b           Mozilla  Desktop      0  \n",
      "22                a              Edge   Tablet      0  \n",
      "23                f           Mozilla  Desktop      0  \n",
      "24                a               NaN   Tablet      0  \n",
      "25                b           Mozilla  Desktop      0  \n",
      "26                a           Mozilla      NaN      0  \n",
      "27                b              Edge   Tablet      0  \n",
      "28                a               NaN   Mobile      0  \n",
      "29                b            Chrome  Desktop      0  \n",
      "...             ...               ...      ...    ...  \n",
      "1048545           a              Edge   Tablet      0  \n",
      "1048546           f           Mozilla  Desktop      0  \n",
      "1048547           e           Firefox      NaN      0  \n",
      "1048548           b   Mozilla Firefox  Desktop      0  \n",
      "1048549           b   Mozilla Firefox  Desktop      0  \n",
      "1048550           a           Firefox   Mobile      0  \n",
      "1048551           a           Firefox   Mobile      0  \n",
      "1048552           b     Google Chrome   Mobile      0  \n",
      "1048553           b     Google Chrome   Mobile      0  \n",
      "1048554           b     Google Chrome   Mobile      0  \n",
      "1048555           b           Firefox   Mobile      0  \n",
      "1048556           a  InternetExplorer  Desktop      0  \n",
      "1048557           c           Firefox   Mobile      0  \n",
      "1048558           c           Firefox      NaN      0  \n",
      "1048559           b              Edge      NaN      0  \n",
      "1048560           a              Edge   Tablet      0  \n",
      "1048561           b              Edge   Tablet      0  \n",
      "1048562           b           Firefox      NaN      0  \n",
      "1048563           e                IE   Mobile      0  \n",
      "1048564           b   Mozilla Firefox  Desktop      0  \n",
      "1048565           b           Firefox      NaN      0  \n",
      "1048566           f              Edge      NaN      0  \n",
      "1048567           b              Edge   Tablet      0  \n",
      "1048568           a              Edge   Tablet      0  \n",
      "1048569           b           Mozilla  Desktop      0  \n",
      "1048570           b   Mozilla Firefox  Desktop      0  \n",
      "1048571           b   Mozilla Firefox  Desktop      0  \n",
      "1048572           b           Firefox   Mobile      0  \n",
      "1048573           d           Firefox   Mobile      0  \n",
      "1048574           a            Chrome  Desktop      0  \n",
      "\n",
      "[1048575 rows x 10 columns]\n"
     ]
    }
   ],
   "source": [
    "print (df)"
   ]
  },
  {
   "cell_type": "code",
   "execution_count": 4,
   "metadata": {},
   "outputs": [
    {
     "name": "stdout",
     "output_type": "stream",
     "text": [
      "2500\n",
      "2500\n"
     ]
    }
   ],
   "source": [
    "df_zero = df[df['click']==0]\n",
    "df_one = df[df['click']==1]\n",
    "df_zero = df_zero[:2500]\n",
    "df_one = df_one[:2500]\n",
    "print(len(df_zero))\n",
    "print(len(df_one))"
   ]
  },
  {
   "cell_type": "code",
   "execution_count": 22,
   "metadata": {},
   "outputs": [
    {
     "data": {
      "text/html": [
       "<div>\n",
       "<style scoped>\n",
       "    .dataframe tbody tr th:only-of-type {\n",
       "        vertical-align: middle;\n",
       "    }\n",
       "\n",
       "    .dataframe tbody tr th {\n",
       "        vertical-align: top;\n",
       "    }\n",
       "\n",
       "    .dataframe thead th {\n",
       "        text-align: right;\n",
       "    }\n",
       "</style>\n",
       "<table border=\"1\" class=\"dataframe\">\n",
       "  <thead>\n",
       "    <tr style=\"text-align: right;\">\n",
       "      <th></th>\n",
       "      <th>ID</th>\n",
       "      <th>datetime</th>\n",
       "      <th>siteid</th>\n",
       "      <th>offerid</th>\n",
       "      <th>category</th>\n",
       "      <th>merchant</th>\n",
       "      <th>countrycode</th>\n",
       "      <th>browserid</th>\n",
       "      <th>devid</th>\n",
       "      <th>click</th>\n",
       "    </tr>\n",
       "  </thead>\n",
       "  <tbody>\n",
       "    <tr>\n",
       "      <th>0</th>\n",
       "      <td>IDsrk7SoW</td>\n",
       "      <td>14-01-2017 09:42</td>\n",
       "      <td>4709696.0</td>\n",
       "      <td>887235</td>\n",
       "      <td>17714</td>\n",
       "      <td>20301556</td>\n",
       "      <td>e</td>\n",
       "      <td>Firefox</td>\n",
       "      <td>NaN</td>\n",
       "      <td>0</td>\n",
       "    </tr>\n",
       "    <tr>\n",
       "      <th>1</th>\n",
       "      <td>IDmMSxHur</td>\n",
       "      <td>18-01-2017 17:50</td>\n",
       "      <td>5189467.0</td>\n",
       "      <td>178235</td>\n",
       "      <td>21407</td>\n",
       "      <td>9434818</td>\n",
       "      <td>b</td>\n",
       "      <td>Mozilla Firefox</td>\n",
       "      <td>Desktop</td>\n",
       "      <td>0</td>\n",
       "    </tr>\n",
       "    <tr>\n",
       "      <th>2</th>\n",
       "      <td>IDVLNN0Ut</td>\n",
       "      <td>11-01-2017 12:46</td>\n",
       "      <td>98480.0</td>\n",
       "      <td>518539</td>\n",
       "      <td>25085</td>\n",
       "      <td>2050923</td>\n",
       "      <td>a</td>\n",
       "      <td>Edge</td>\n",
       "      <td>NaN</td>\n",
       "      <td>0</td>\n",
       "    </tr>\n",
       "    <tr>\n",
       "      <th>3</th>\n",
       "      <td>ID32T6wwQ</td>\n",
       "      <td>17-01-2017 10:18</td>\n",
       "      <td>8896401.0</td>\n",
       "      <td>390352</td>\n",
       "      <td>40339</td>\n",
       "      <td>72089744</td>\n",
       "      <td>c</td>\n",
       "      <td>Firefox</td>\n",
       "      <td>Mobile</td>\n",
       "      <td>0</td>\n",
       "    </tr>\n",
       "    <tr>\n",
       "      <th>4</th>\n",
       "      <td>IDqUShzMg</td>\n",
       "      <td>14-01-2017 16:02</td>\n",
       "      <td>5635120.0</td>\n",
       "      <td>472937</td>\n",
       "      <td>12052</td>\n",
       "      <td>39507200</td>\n",
       "      <td>d</td>\n",
       "      <td>Mozilla Firefox</td>\n",
       "      <td>Desktop</td>\n",
       "      <td>0</td>\n",
       "    </tr>\n",
       "  </tbody>\n",
       "</table>\n",
       "</div>"
      ],
      "text/plain": [
       "          ID          datetime     siteid  offerid  category  merchant  \\\n",
       "0  IDsrk7SoW  14-01-2017 09:42  4709696.0   887235     17714  20301556   \n",
       "1  IDmMSxHur  18-01-2017 17:50  5189467.0   178235     21407   9434818   \n",
       "2  IDVLNN0Ut  11-01-2017 12:46    98480.0   518539     25085   2050923   \n",
       "3  ID32T6wwQ  17-01-2017 10:18  8896401.0   390352     40339  72089744   \n",
       "4  IDqUShzMg  14-01-2017 16:02  5635120.0   472937     12052  39507200   \n",
       "\n",
       "  countrycode        browserid    devid  click  \n",
       "0           e          Firefox      NaN      0  \n",
       "1           b  Mozilla Firefox  Desktop      0  \n",
       "2           a             Edge      NaN      0  \n",
       "3           c          Firefox   Mobile      0  \n",
       "4           d  Mozilla Firefox  Desktop      0  "
      ]
     },
     "execution_count": 22,
     "metadata": {},
     "output_type": "execute_result"
    }
   ],
   "source": [
    "df_zero.head()"
   ]
  },
  {
   "cell_type": "code",
   "execution_count": 23,
   "metadata": {},
   "outputs": [
    {
     "name": "stdout",
     "output_type": "stream",
     "text": [
      "             ID          datetime     siteid  offerid  category  merchant  \\\n",
      "0     IDdPZWVCs  15-01-2017 21:43  6718234.0   433512     43612  57517812   \n",
      "1     IDU8ukCsv  10-01-2017 15:28   469603.0   385750     93286   7122654   \n",
      "2     IDfEQxvi3  14-01-2017 19:01  5369414.0   513860     27655  92826840   \n",
      "3     IDbF2aKjs  11-01-2017 19:21  6005717.0   956737      1678  60293830   \n",
      "4     IDEgpeME8  16-01-2017 14:29  7979331.0   501647     68947  58321067   \n",
      "5     ID0SqwVVC  17-01-2017 00:04  2092870.0   400635     43897  46512126   \n",
      "6     IDN439rpK  20-01-2017 12:49    94250.0   527842     23576  16150900   \n",
      "7     IDd9dRKG1  15-01-2017 01:00  7885100.0   913591     15912   7181598   \n",
      "8     IDA9DGtL9  15-01-2017 06:30  9335708.0   188867      3643    555603   \n",
      "9     IDLM0u0QM  16-01-2017 02:56  5571806.0   103249     40339  43452411   \n",
      "10    IDY7aCYRs  13-01-2017 13:25  8476528.0   945081     41706   4000296   \n",
      "11    IDLBtW0hS  13-01-2017 20:05  2148269.0   995962     80554   7122654   \n",
      "12    IDKkm1yRm  17-01-2017 08:31  6357104.0   197970     82877  78406516   \n",
      "13    IDmCaFQkJ  15-01-2017 14:30  1321785.0   141439     48498  30860214   \n",
      "14    ID0VuR9R1  11-01-2017 17:08  6998887.0   476429      6906  99510044   \n",
      "15    IDxJJspc3  10-01-2017 14:50  9316347.0   282356     33287  23341324   \n",
      "16    IDV0IQaQq  19-01-2017 17:38  4510569.0   189942     92704  29624796   \n",
      "17    IDg4fDt5B  15-01-2017 13:51  2542673.0   231649     92902  78406516   \n",
      "18    IDBZHCyYA  13-01-2017 14:38        NaN   775324      6906  99510044   \n",
      "19    IDiE6o6rw  16-01-2017 07:27  5206322.0   640418     63435  91553313   \n",
      "20    IDwBWNfQj  13-01-2017 01:07  9108914.0   736393     45620  54630329   \n",
      "21    IDH7qvJVb  12-01-2017 13:52  7639385.0   589473     92704  91553313   \n",
      "22    IDpSI2hjf  11-01-2017 22:46    59336.0   836901     46450  54630329   \n",
      "23    IDe0LJccb  16-01-2017 17:58  7803296.0   191706     97863   8837581   \n",
      "24    IDKbLhp64  13-01-2017 15:56  2296566.0   261066      6906  99510044   \n",
      "25    ID0U4uLhR  13-01-2017 17:09  9469286.0   562863      3643    555603   \n",
      "26    IDEsA6qUY  19-01-2017 16:50  2673485.0   251531     64452  77068781   \n",
      "27    IDPj4WE2f  11-01-2017 11:38  5559817.0   972561     17714  29916445   \n",
      "28    IDg57oMPM  14-01-2017 10:24  3750885.0   567719     35368  12817537   \n",
      "29    IDrmzvqwa  11-01-2017 22:38  3768424.0   712555      6906  98830533   \n",
      "...         ...               ...        ...      ...       ...       ...   \n",
      "4970  IDNpdWTXs  20-01-2017 03:26  3376249.0   306459     27113  61940782   \n",
      "4971  IDLfwuCtw  16-01-2017 14:55        NaN    38226     62809  74868704   \n",
      "4972  ID4M8R6pC  16-01-2017 17:10  9107050.0   460846     41640  29916445   \n",
      "4973  IDZluCLOv  20-01-2017 10:11        NaN   597835     26162  20116446   \n",
      "4974  IDaGBap9g  17-01-2017 11:08  4743942.0   739198     78021   4000296   \n",
      "4975  IDDWvaXOn  12-01-2017 17:52  1128373.0   711333     68947  26929326   \n",
      "4976  IDjTsQmf0  18-01-2017 16:51        NaN   887643     15912   5716520   \n",
      "4977  ID36nIu2J  11-01-2017 18:45  4341596.0   273854     45290  74868704   \n",
      "4978  IDq0meCOx  18-01-2017 09:07  5685617.0   304192     14960  86084476   \n",
      "4979  IDWMXjRHr  15-01-2017 13:38  3963904.0   907329     31365  74363610   \n",
      "4980  IDPLExEIw  18-01-2017 11:30  6867752.0   705732     48498  54526992   \n",
      "4981  IDcdUyVyL  11-01-2017 19:41  5671724.0   371615     54916  32912111   \n",
      "4982  IDSyZsOVz  12-01-2017 15:09  4606668.0   995984     23576  17990842   \n",
      "4983  IDyvOM6Pn  17-01-2017 15:07  1249650.0   197964     43897   7122654   \n",
      "4984  IDD9ROdz5  12-01-2017 13:42        NaN   121982     83091  26391770   \n",
      "4985  IDaZzBdns  17-01-2017 06:56  3665704.0   427637     42227  96823930   \n",
      "4986  ID9pI83mI  13-01-2017 13:43        NaN   436635     45620  31388981   \n",
      "4987  IDxSXCLEb  14-01-2017 12:47  7174151.0   687664     62949  81968512   \n",
      "4988  IDjWQglZs  11-01-2017 17:13  4409551.0   216231     80554   7122654   \n",
      "4989  IDkGscywR  15-01-2017 18:21  9385466.0   218914     56811  51330651   \n",
      "4990  IDF0PUzHb  11-01-2017 16:38  3690104.0   900144     54125  67290861   \n",
      "4991  ID78RP97n  17-01-2017 02:46   187884.0   212836      6906  71165566   \n",
      "4992  IDFsGqgaE  11-01-2017 12:45        NaN   662074     54916  62201833   \n",
      "4993  IDNJrvAwi  15-01-2017 11:43  8946231.0   684166     25491  79474990   \n",
      "4994  IDoIV9CGq  13-01-2017 16:45  1571651.0   224771     73362  67274540   \n",
      "4995  ID2imQNFh  20-01-2017 14:54        NaN   188137     17118   7122654   \n",
      "4996  IDvy0XaRm  20-01-2017 16:38  9080966.0   705487     42227  96823930   \n",
      "4997  IDppZccQ4  14-01-2017 09:54  6982943.0   739843     23576  45446370   \n",
      "4998  IDlkzyybn  19-01-2017 09:55  8061693.0   542879     53956  69514806   \n",
      "4999  IDUSStvRj  10-01-2017 12:23        NaN    22740     54916  99558603   \n",
      "\n",
      "     countrycode         browserid    devid  click  \n",
      "0              c               NaN  Desktop      1  \n",
      "1              a     Google Chrome   Mobile      1  \n",
      "2              f     Google Chrome   Mobile      1  \n",
      "3              f  InternetExplorer  Desktop      1  \n",
      "4              f           Mozilla  Desktop      1  \n",
      "5              c           Firefox   Mobile      1  \n",
      "6              c            Safari   Tablet      1  \n",
      "7              d           Firefox   Mobile      1  \n",
      "8              d               NaN   Mobile      1  \n",
      "9              a  InternetExplorer  Desktop      1  \n",
      "10             c           Mozilla  Desktop      1  \n",
      "11             c  InternetExplorer  Desktop      1  \n",
      "12             c           Firefox   Mobile      1  \n",
      "13             d     Google Chrome   Mobile      1  \n",
      "14             d               NaN   Mobile      1  \n",
      "15             a     Google Chrome   Mobile      1  \n",
      "16             d  InternetExplorer  Desktop      1  \n",
      "17             c   Mozilla Firefox      NaN      1  \n",
      "18             d  InternetExplorer      NaN      1  \n",
      "19             c     Google Chrome   Mobile      1  \n",
      "20             d   Mozilla Firefox  Desktop      1  \n",
      "21             d  InternetExplorer  Desktop      1  \n",
      "22             b  InternetExplorer  Desktop      1  \n",
      "23             d  InternetExplorer  Desktop      1  \n",
      "24             c  InternetExplorer      NaN      1  \n",
      "25             d  InternetExplorer  Desktop      1  \n",
      "26             c  InternetExplorer      NaN      1  \n",
      "27             c               NaN  Desktop      1  \n",
      "28             b  InternetExplorer  Desktop      1  \n",
      "29             d  InternetExplorer  Desktop      1  \n",
      "...          ...               ...      ...    ...  \n",
      "4970           b                IE   Mobile      0  \n",
      "4971           a              Edge   Tablet      0  \n",
      "4972           d              Edge   Tablet      0  \n",
      "4973           a           Firefox   Mobile      0  \n",
      "4974           b   Mozilla Firefox      NaN      0  \n",
      "4975           b           Firefox   Mobile      0  \n",
      "4976           d                IE   Mobile      0  \n",
      "4977           b           Firefox   Mobile      0  \n",
      "4978           b            Chrome      NaN      0  \n",
      "4979           b           Firefox   Mobile      0  \n",
      "4980           f              Edge   Tablet      0  \n",
      "4981           b           Firefox   Mobile      0  \n",
      "4982           a           Mozilla  Desktop      0  \n",
      "4983           f   Mozilla Firefox  Desktop      0  \n",
      "4984           e              Edge   Tablet      0  \n",
      "4985           b           Firefox   Mobile      0  \n",
      "4986           c              Edge   Tablet      0  \n",
      "4987           a              Edge   Tablet      0  \n",
      "4988           a               NaN   Mobile      0  \n",
      "4989           b           Firefox   Mobile      0  \n",
      "4990           f   Mozilla Firefox  Desktop      0  \n",
      "4991           a              Edge   Tablet      0  \n",
      "4992           f           Mozilla      NaN      0  \n",
      "4993           a              Edge   Tablet      0  \n",
      "4994           c           Firefox      NaN      0  \n",
      "4995           a              Edge   Tablet      0  \n",
      "4996           a           Firefox      NaN      0  \n",
      "4997           b           Firefox   Mobile      0  \n",
      "4998           b     Google Chrome   Mobile      0  \n",
      "4999           a           Firefox   Mobile      0  \n",
      "\n",
      "[5000 rows x 10 columns]\n"
     ]
    }
   ],
   "source": [
    "df_combined = df_one.append(df_zero,ignore_index=True)\n",
    "print (df_combined)"
   ]
  },
  {
   "cell_type": "code",
   "execution_count": 29,
   "metadata": {},
   "outputs": [
    {
     "name": "stdout",
     "output_type": "stream",
     "text": [
      "             ID          datetime     siteid  offerid  category  merchant  \\\n",
      "3422  IDR2SDkSa  12-01-2017 10:35  6725686.0   706864     35368  90093962   \n",
      "2823  IDX59aNVm  15-01-2017 11:37  3872686.0   325317      6906  99510044   \n",
      "561   IDMuKPp5b  20-01-2017 18:55        NaN   343856     17714  27723861   \n",
      "626   IDYj7Ftgr  17-01-2017 19:51  2341829.0   944752      6906  99510044   \n",
      "431   IDQlsG19F  16-01-2017 22:17   541831.0    88210     33287  86084476   \n",
      "2224  IDcTInpMe  12-01-2017 20:24  2342308.0   373155     41706  72780377   \n",
      "53    IDWF3gLDC  13-01-2017 21:42        NaN   531171     43612  41441342   \n",
      "2370  ID2wHehTy  18-01-2017 20:07        NaN   743867      6906  99510044   \n",
      "1489  IDNlOsOFP  11-01-2017 17:45  5084392.0   746098     64452  92640312   \n",
      "732   IDP5qBoB5  11-01-2017 01:02  7465632.0   948886      6906  98830533   \n",
      "4842  IDr2YaYWM  15-01-2017 07:05  3632094.0   758174     76239  17990842   \n",
      "4310  IDYlQMtim  15-01-2017 17:00  5331225.0   140420      6906  99510044   \n",
      "2039  IDU81MDY9  12-01-2017 21:05  6357225.0   576916     73362  72161006   \n",
      "4166  IDCcAS0dk  11-01-2017 12:14  5479838.0   893584     41706   4000296   \n",
      "2911  IDl4XKqv8  20-01-2017 07:56  8698439.0   505766     11837  43770446   \n",
      "2418  IDj8KBf35  12-01-2017 14:19  8175889.0   910164      1678  14334527   \n",
      "4390  IDVHeOJux  15-01-2017 08:40  9876407.0   554561     17714  74363610   \n",
      "1277  IDFIUOEKz  14-01-2017 20:46  1415010.0   359870     48498   7122654   \n",
      "2395  IDOJinWA5  11-01-2017 21:08  6768601.0   664178     70409  15961717   \n",
      "2594  IDQ9Jldhz  15-01-2017 12:46  4008914.0   999599     54343  71193712   \n",
      "2338  IDMcF2nDV  18-01-2017 08:21  8756364.0   696053     45620  31388981   \n",
      "3823  IDzQsbRr8  17-01-2017 07:52  7930294.0   609436     53956  52437512   \n",
      "2485  IDgQfrUF4  14-01-2017 12:12  1410819.0   322377     68947  56546102   \n",
      "3025  ID3P7Yakj  10-01-2017 12:15  7024840.0    19576      3037  55358028   \n",
      "1965  IDaPBqqYH  17-01-2017 03:05  7387697.0   939205     80554   7122654   \n",
      "2674  IDpJwLPVg  11-01-2017 19:14  6557759.0   640386     40339   5675575   \n",
      "2686  ID3CKN3i0  16-01-2017 05:47  1813701.0   645916     80554   7122654   \n",
      "4168  IDDQUosbJ  14-01-2017 10:29  1573770.0   394005     59164  20301556   \n",
      "1680  IDPfXm4Ot  20-01-2017 04:57  1691713.0   758300       904  29352781   \n",
      "21    IDH7qvJVb  12-01-2017 13:52  7639385.0   589473     92704  91553313   \n",
      "...         ...               ...        ...      ...       ...       ...   \n",
      "2347  IDnFtMIAG  14-01-2017 11:36  4624863.0   263125     71531  58604466   \n",
      "3510  ID14xTD2z  18-01-2017 12:54  4457181.0   659869     34670  41475976   \n",
      "1927  IDpY0QJo0  11-01-2017 18:26  8819842.0   650193      2053  74868704   \n",
      "172   ID6YUnzDj  18-01-2017 10:01  1154549.0   294370     54125   2835657   \n",
      "4094  IDQNHO3Jf  11-01-2017 15:41  7950870.0   742036     66786  20301556   \n",
      "1275  IDyahkRAf  18-01-2017 22:38   926544.0   981074     48430  55420443   \n",
      "717   IDlRYluA2  12-01-2017 18:11  1617893.0   358522      6906  99510044   \n",
      "1086  IDPQGtcbe  12-01-2017 01:27  4388407.0   176516     67817  17687647   \n",
      "1199  ID408DuzV  19-01-2017 20:31  6125011.0   992959     34810  73846149   \n",
      "2626  ID3tm0rDh  14-01-2017 11:42        NaN   520437       904  29916445   \n",
      "3486  IDGwoatbD  19-01-2017 17:29  3709667.0   569668     25516  54526992   \n",
      "2503  ID32T6wwQ  17-01-2017 10:18  8896401.0   390352     40339  72089744   \n",
      "3346  ID6KXAvPW  20-01-2017 09:51  7753351.0   167871     10345  17777318   \n",
      "2622  ID3A95WSu  19-01-2017 09:12  6792696.0   830233     53956  52437512   \n",
      "287   IDQukXHez  17-01-2017 20:11  6051414.0   667376     97863   3156697   \n",
      "4763  IDewPXeJN  12-01-2017 16:40  3504497.0   261397       904  74363610   \n",
      "4645  IDWHiu6P8  15-01-2017 14:25  9442949.0   378648     82877  38492160   \n",
      "4616  IDhe6VVR4  11-01-2017 02:08  9366936.0   421295     31365  82291592   \n",
      "3206  ID9BrCfUS  13-01-2017 08:13  1043601.0   879954     40339  13742268   \n",
      "2269  ID8rmhaKP  16-01-2017 09:23  5660215.0   273506     15912  63767331   \n",
      "2822  IDstNSoT3  19-01-2017 14:15  6467774.0   486181      1678   7864011   \n",
      "4314  IDt3MejwC  14-01-2017 09:20  8011778.0   969700     26962  77896159   \n",
      "1824  ID7AlGuyB  14-01-2017 09:00  4729321.0   233131     42227  18243870   \n",
      "2232  IDc1B7VQw  17-01-2017 10:30  5079322.0   988643     40050  66266506   \n",
      "4073  IDO5WcZ01  17-01-2017 08:25  4527733.0   569786     68947  30860214   \n",
      "4393  ID93PeHU5  14-01-2017 07:12  2978042.0   296599     44388  29916445   \n",
      "2475  ID2WKaiQq  16-01-2017 18:33  9655247.0    75333     30580  67147700   \n",
      "4019  ID52PXaqA  19-01-2017 12:41  7567005.0   955533     33638   7122654   \n",
      "2875  IDWkC5vbT  12-01-2017 11:24  3154179.0   308437     72276  20116446   \n",
      "435   IDlp6Vsq8  14-01-2017 09:52        NaN   520140      6906  71165566   \n",
      "\n",
      "     countrycode         browserid    devid  click  \n",
      "3422           e           Mozilla  Desktop      0  \n",
      "2823           a           Firefox   Mobile      0  \n",
      "561            a     Google Chrome      NaN      1  \n",
      "626            c  InternetExplorer  Desktop      1  \n",
      "431            c     Google Chrome      NaN      1  \n",
      "2224           d           Mozilla  Desktop      1  \n",
      "53             a     Google Chrome   Mobile      1  \n",
      "2370           b     Google Chrome   Mobile      1  \n",
      "1489           b     Google Chrome   Mobile      1  \n",
      "732            c            Safari   Tablet      1  \n",
      "4842           b  InternetExplorer  Desktop      0  \n",
      "4310           c            Chrome  Desktop      0  \n",
      "2039           d  InternetExplorer      NaN      1  \n",
      "4166           b   Mozilla Firefox      NaN      0  \n",
      "2911           b     Google Chrome   Mobile      0  \n",
      "2418           c  InternetExplorer      NaN      1  \n",
      "4390           f           Mozilla  Desktop      0  \n",
      "1277           d           Firefox   Mobile      1  \n",
      "2395           d     Google Chrome   Mobile      1  \n",
      "2594           e           Firefox   Mobile      0  \n",
      "2338           f  InternetExplorer  Desktop      1  \n",
      "3823           b           Firefox   Mobile      0  \n",
      "2485           b  InternetExplorer  Desktop      1  \n",
      "3025           b           Firefox      NaN      0  \n",
      "1965           c  InternetExplorer  Desktop      1  \n",
      "2674           b           Firefox   Mobile      0  \n",
      "2686           f              Edge   Tablet      0  \n",
      "4168           b           Firefox   Mobile      0  \n",
      "1680           c           Firefox   Mobile      1  \n",
      "21             d  InternetExplorer  Desktop      1  \n",
      "...          ...               ...      ...    ...  \n",
      "2347           d     Google Chrome   Mobile      1  \n",
      "3510           c           Firefox   Mobile      0  \n",
      "1927           c  InternetExplorer  Desktop      1  \n",
      "172            d     Google Chrome   Mobile      1  \n",
      "4094           b               NaN   Mobile      0  \n",
      "1275           f  InternetExplorer  Desktop      1  \n",
      "717            c  InternetExplorer  Desktop      1  \n",
      "1086           c                IE   Mobile      1  \n",
      "1199           c     Google Chrome   Mobile      1  \n",
      "2626           c              Edge   Tablet      0  \n",
      "3486           e  InternetExplorer  Desktop      0  \n",
      "2503           c           Firefox   Mobile      0  \n",
      "3346           e     Google Chrome   Mobile      0  \n",
      "2622           a           Firefox   Mobile      0  \n",
      "287            b  InternetExplorer  Desktop      1  \n",
      "4763           b           Firefox   Mobile      0  \n",
      "4645           f              Edge   Tablet      0  \n",
      "4616           b              Edge   Tablet      0  \n",
      "3206           e           Firefox      NaN      0  \n",
      "2269           d           Mozilla  Desktop      1  \n",
      "2822           d               NaN   Mobile      0  \n",
      "4314           d           Firefox   Mobile      0  \n",
      "1824           d  InternetExplorer  Desktop      1  \n",
      "2232           e     Google Chrome   Mobile      1  \n",
      "4073           c              Edge   Tablet      0  \n",
      "4393           e              Edge      NaN      0  \n",
      "2475           d  InternetExplorer  Desktop      1  \n",
      "4019           f           Firefox   Mobile      0  \n",
      "2875           f  InternetExplorer  Desktop      0  \n",
      "435            d  InternetExplorer  Desktop      1  \n",
      "\n",
      "[5000 rows x 10 columns]\n"
     ]
    }
   ],
   "source": [
    "df_new = shuffle(df_combined)\n",
    "print(df_new)"
   ]
  },
  {
   "cell_type": "code",
   "execution_count": 30,
   "metadata": {},
   "outputs": [
    {
     "data": {
      "text/plain": [
       "1    2500\n",
       "0    2500\n",
       "Name: click, dtype: int64"
      ]
     },
     "execution_count": 30,
     "metadata": {},
     "output_type": "execute_result"
    }
   ],
   "source": [
    "df_new['click'].value_counts()"
   ]
  },
  {
   "cell_type": "code",
   "execution_count": 31,
   "metadata": {},
   "outputs": [
    {
     "data": {
      "text/plain": [
       "ID               0\n",
       "datetime         0\n",
       "siteid         515\n",
       "offerid          0\n",
       "category         0\n",
       "merchant         0\n",
       "countrycode      0\n",
       "browserid      267\n",
       "devid          761\n",
       "click            0\n",
       "dtype: int64"
      ]
     },
     "execution_count": 31,
     "metadata": {},
     "output_type": "execute_result"
    }
   ],
   "source": [
    "df_new.isnull().sum()"
   ]
  },
  {
   "cell_type": "code",
   "execution_count": 32,
   "metadata": {},
   "outputs": [
    {
     "name": "stdout",
     "output_type": "stream",
     "text": [
      "0.103\n",
      "0.0534\n",
      "0.1522\n"
     ]
    }
   ],
   "source": [
    "print((df_new[\"siteid\"].isnull().sum())/len(df_new[\"siteid\"])) \n",
    "print((df_new[\"browserid\"].isnull().sum())/len(df_new[\"browserid\"]))\n",
    "print((df_new[\"devid\"].isnull().sum())/len(df_new[\"devid\"]))\n",
    "                                       "
   ]
  },
  {
   "cell_type": "code",
   "execution_count": 11,
   "metadata": {},
   "outputs": [
    {
     "data": {
      "text/plain": [
       "0    Mobile\n",
       "dtype: object"
      ]
     },
     "execution_count": 11,
     "metadata": {},
     "output_type": "execute_result"
    }
   ],
   "source": [
    "df_new['siteid'].mode()\n",
    "df_new['browserid'].mode()\n",
    "df_new['devid'].mode()"
   ]
  },
  {
   "cell_type": "code",
   "execution_count": 33,
   "metadata": {},
   "outputs": [
    {
     "name": "stdout",
     "output_type": "stream",
     "text": [
      "             ID          datetime     siteid  offerid  category  merchant  \\\n",
      "3422  IDR2SDkSa  12-01-2017 10:35  6725686.0   706864     35368  90093962   \n",
      "2823  IDX59aNVm  15-01-2017 11:37  3872686.0   325317      6906  99510044   \n",
      "561   IDMuKPp5b  20-01-2017 18:55  1466152.0   343856     17714  27723861   \n",
      "626   IDYj7Ftgr  17-01-2017 19:51  2341829.0   944752      6906  99510044   \n",
      "431   IDQlsG19F  16-01-2017 22:17   541831.0    88210     33287  86084476   \n",
      "2224  IDcTInpMe  12-01-2017 20:24  2342308.0   373155     41706  72780377   \n",
      "53    IDWF3gLDC  13-01-2017 21:42  1466152.0   531171     43612  41441342   \n",
      "2370  ID2wHehTy  18-01-2017 20:07  1466152.0   743867      6906  99510044   \n",
      "1489  IDNlOsOFP  11-01-2017 17:45  5084392.0   746098     64452  92640312   \n",
      "732   IDP5qBoB5  11-01-2017 01:02  7465632.0   948886      6906  98830533   \n",
      "4842  IDr2YaYWM  15-01-2017 07:05  3632094.0   758174     76239  17990842   \n",
      "4310  IDYlQMtim  15-01-2017 17:00  5331225.0   140420      6906  99510044   \n",
      "2039  IDU81MDY9  12-01-2017 21:05  6357225.0   576916     73362  72161006   \n",
      "4166  IDCcAS0dk  11-01-2017 12:14  5479838.0   893584     41706   4000296   \n",
      "2911  IDl4XKqv8  20-01-2017 07:56  8698439.0   505766     11837  43770446   \n",
      "2418  IDj8KBf35  12-01-2017 14:19  8175889.0   910164      1678  14334527   \n",
      "4390  IDVHeOJux  15-01-2017 08:40  9876407.0   554561     17714  74363610   \n",
      "1277  IDFIUOEKz  14-01-2017 20:46  1415010.0   359870     48498   7122654   \n",
      "2395  IDOJinWA5  11-01-2017 21:08  6768601.0   664178     70409  15961717   \n",
      "2594  IDQ9Jldhz  15-01-2017 12:46  4008914.0   999599     54343  71193712   \n",
      "2338  IDMcF2nDV  18-01-2017 08:21  8756364.0   696053     45620  31388981   \n",
      "3823  IDzQsbRr8  17-01-2017 07:52  7930294.0   609436     53956  52437512   \n",
      "2485  IDgQfrUF4  14-01-2017 12:12  1410819.0   322377     68947  56546102   \n",
      "3025  ID3P7Yakj  10-01-2017 12:15  7024840.0    19576      3037  55358028   \n",
      "1965  IDaPBqqYH  17-01-2017 03:05  7387697.0   939205     80554   7122654   \n",
      "2674  IDpJwLPVg  11-01-2017 19:14  6557759.0   640386     40339   5675575   \n",
      "2686  ID3CKN3i0  16-01-2017 05:47  1813701.0   645916     80554   7122654   \n",
      "4168  IDDQUosbJ  14-01-2017 10:29  1573770.0   394005     59164  20301556   \n",
      "1680  IDPfXm4Ot  20-01-2017 04:57  1691713.0   758300       904  29352781   \n",
      "21    IDH7qvJVb  12-01-2017 13:52  7639385.0   589473     92704  91553313   \n",
      "...         ...               ...        ...      ...       ...       ...   \n",
      "2347  IDnFtMIAG  14-01-2017 11:36  4624863.0   263125     71531  58604466   \n",
      "3510  ID14xTD2z  18-01-2017 12:54  4457181.0   659869     34670  41475976   \n",
      "1927  IDpY0QJo0  11-01-2017 18:26  8819842.0   650193      2053  74868704   \n",
      "172   ID6YUnzDj  18-01-2017 10:01  1154549.0   294370     54125   2835657   \n",
      "4094  IDQNHO3Jf  11-01-2017 15:41  7950870.0   742036     66786  20301556   \n",
      "1275  IDyahkRAf  18-01-2017 22:38   926544.0   981074     48430  55420443   \n",
      "717   IDlRYluA2  12-01-2017 18:11  1617893.0   358522      6906  99510044   \n",
      "1086  IDPQGtcbe  12-01-2017 01:27  4388407.0   176516     67817  17687647   \n",
      "1199  ID408DuzV  19-01-2017 20:31  6125011.0   992959     34810  73846149   \n",
      "2626  ID3tm0rDh  14-01-2017 11:42  1466152.0   520437       904  29916445   \n",
      "3486  IDGwoatbD  19-01-2017 17:29  3709667.0   569668     25516  54526992   \n",
      "2503  ID32T6wwQ  17-01-2017 10:18  8896401.0   390352     40339  72089744   \n",
      "3346  ID6KXAvPW  20-01-2017 09:51  7753351.0   167871     10345  17777318   \n",
      "2622  ID3A95WSu  19-01-2017 09:12  6792696.0   830233     53956  52437512   \n",
      "287   IDQukXHez  17-01-2017 20:11  6051414.0   667376     97863   3156697   \n",
      "4763  IDewPXeJN  12-01-2017 16:40  3504497.0   261397       904  74363610   \n",
      "4645  IDWHiu6P8  15-01-2017 14:25  9442949.0   378648     82877  38492160   \n",
      "4616  IDhe6VVR4  11-01-2017 02:08  9366936.0   421295     31365  82291592   \n",
      "3206  ID9BrCfUS  13-01-2017 08:13  1043601.0   879954     40339  13742268   \n",
      "2269  ID8rmhaKP  16-01-2017 09:23  5660215.0   273506     15912  63767331   \n",
      "2822  IDstNSoT3  19-01-2017 14:15  6467774.0   486181      1678   7864011   \n",
      "4314  IDt3MejwC  14-01-2017 09:20  8011778.0   969700     26962  77896159   \n",
      "1824  ID7AlGuyB  14-01-2017 09:00  4729321.0   233131     42227  18243870   \n",
      "2232  IDc1B7VQw  17-01-2017 10:30  5079322.0   988643     40050  66266506   \n",
      "4073  IDO5WcZ01  17-01-2017 08:25  4527733.0   569786     68947  30860214   \n",
      "4393  ID93PeHU5  14-01-2017 07:12  2978042.0   296599     44388  29916445   \n",
      "2475  ID2WKaiQq  16-01-2017 18:33  9655247.0    75333     30580  67147700   \n",
      "4019  ID52PXaqA  19-01-2017 12:41  7567005.0   955533     33638   7122654   \n",
      "2875  IDWkC5vbT  12-01-2017 11:24  3154179.0   308437     72276  20116446   \n",
      "435   IDlp6Vsq8  14-01-2017 09:52  1466152.0   520140      6906  71165566   \n",
      "\n",
      "     countrycode         browserid    devid  click  \n",
      "3422           e           Mozilla  Desktop      0  \n",
      "2823           a           Firefox   Mobile      0  \n",
      "561            a     Google Chrome   Mobile      1  \n",
      "626            c  InternetExplorer  Desktop      1  \n",
      "431            c     Google Chrome   Mobile      1  \n",
      "2224           d           Mozilla  Desktop      1  \n",
      "53             a     Google Chrome   Mobile      1  \n",
      "2370           b     Google Chrome   Mobile      1  \n",
      "1489           b     Google Chrome   Mobile      1  \n",
      "732            c            Safari   Tablet      1  \n",
      "4842           b  InternetExplorer  Desktop      0  \n",
      "4310           c            Chrome  Desktop      0  \n",
      "2039           d  InternetExplorer   Mobile      1  \n",
      "4166           b   Mozilla Firefox   Mobile      0  \n",
      "2911           b     Google Chrome   Mobile      0  \n",
      "2418           c  InternetExplorer   Mobile      1  \n",
      "4390           f           Mozilla  Desktop      0  \n",
      "1277           d           Firefox   Mobile      1  \n",
      "2395           d     Google Chrome   Mobile      1  \n",
      "2594           e           Firefox   Mobile      0  \n",
      "2338           f  InternetExplorer  Desktop      1  \n",
      "3823           b           Firefox   Mobile      0  \n",
      "2485           b  InternetExplorer  Desktop      1  \n",
      "3025           b           Firefox   Mobile      0  \n",
      "1965           c  InternetExplorer  Desktop      1  \n",
      "2674           b           Firefox   Mobile      0  \n",
      "2686           f              Edge   Tablet      0  \n",
      "4168           b           Firefox   Mobile      0  \n",
      "1680           c           Firefox   Mobile      1  \n",
      "21             d  InternetExplorer  Desktop      1  \n",
      "...          ...               ...      ...    ...  \n",
      "2347           d     Google Chrome   Mobile      1  \n",
      "3510           c           Firefox   Mobile      0  \n",
      "1927           c  InternetExplorer  Desktop      1  \n",
      "172            d     Google Chrome   Mobile      1  \n",
      "4094           b              Edge   Mobile      0  \n",
      "1275           f  InternetExplorer  Desktop      1  \n",
      "717            c  InternetExplorer  Desktop      1  \n",
      "1086           c                IE   Mobile      1  \n",
      "1199           c     Google Chrome   Mobile      1  \n",
      "2626           c              Edge   Tablet      0  \n",
      "3486           e  InternetExplorer  Desktop      0  \n",
      "2503           c           Firefox   Mobile      0  \n",
      "3346           e     Google Chrome   Mobile      0  \n",
      "2622           a           Firefox   Mobile      0  \n",
      "287            b  InternetExplorer  Desktop      1  \n",
      "4763           b           Firefox   Mobile      0  \n",
      "4645           f              Edge   Tablet      0  \n",
      "4616           b              Edge   Tablet      0  \n",
      "3206           e           Firefox   Mobile      0  \n",
      "2269           d           Mozilla  Desktop      1  \n",
      "2822           d              Edge   Mobile      0  \n",
      "4314           d           Firefox   Mobile      0  \n",
      "1824           d  InternetExplorer  Desktop      1  \n",
      "2232           e     Google Chrome   Mobile      1  \n",
      "4073           c              Edge   Tablet      0  \n",
      "4393           e              Edge   Mobile      0  \n",
      "2475           d  InternetExplorer  Desktop      1  \n",
      "4019           f           Firefox   Mobile      0  \n",
      "2875           f  InternetExplorer  Desktop      0  \n",
      "435            d  InternetExplorer  Desktop      1  \n",
      "\n",
      "[5000 rows x 10 columns]\n"
     ]
    }
   ],
   "source": [
    "df_new[\"siteid\"]=df_new[\"siteid\"].fillna(1466152.0)\n",
    "df_new[\"browserid\"]=df_new[\"browserid\"].fillna('Edge')\n",
    "df_new[\"devid\"]=df_new[\"devid\"].fillna('Mobile')\n",
    "print(df_new)"
   ]
  },
  {
   "cell_type": "code",
   "execution_count": 34,
   "metadata": {},
   "outputs": [
    {
     "data": {
      "text/plain": [
       "ID             0\n",
       "datetime       0\n",
       "siteid         0\n",
       "offerid        0\n",
       "category       0\n",
       "merchant       0\n",
       "countrycode    0\n",
       "browserid      0\n",
       "devid          0\n",
       "click          0\n",
       "dtype: int64"
      ]
     },
     "execution_count": 34,
     "metadata": {},
     "output_type": "execute_result"
    }
   ],
   "source": [
    "df_new.isnull().sum()"
   ]
  },
  {
   "cell_type": "code",
   "execution_count": 35,
   "metadata": {},
   "outputs": [
    {
     "data": {
      "text/html": [
       "<div>\n",
       "<style scoped>\n",
       "    .dataframe tbody tr th:only-of-type {\n",
       "        vertical-align: middle;\n",
       "    }\n",
       "\n",
       "    .dataframe tbody tr th {\n",
       "        vertical-align: top;\n",
       "    }\n",
       "\n",
       "    .dataframe thead th {\n",
       "        text-align: right;\n",
       "    }\n",
       "</style>\n",
       "<table border=\"1\" class=\"dataframe\">\n",
       "  <thead>\n",
       "    <tr style=\"text-align: right;\">\n",
       "      <th></th>\n",
       "      <th>ID</th>\n",
       "      <th>datetime</th>\n",
       "      <th>siteid</th>\n",
       "      <th>offerid</th>\n",
       "      <th>category</th>\n",
       "      <th>merchant</th>\n",
       "      <th>countrycode</th>\n",
       "      <th>browserid</th>\n",
       "      <th>devid</th>\n",
       "      <th>click</th>\n",
       "    </tr>\n",
       "  </thead>\n",
       "  <tbody>\n",
       "    <tr>\n",
       "      <th>3422</th>\n",
       "      <td>IDR2SDkSa</td>\n",
       "      <td>12-01-2017 10:35</td>\n",
       "      <td>6725686.0</td>\n",
       "      <td>706864</td>\n",
       "      <td>35368</td>\n",
       "      <td>90093962</td>\n",
       "      <td>e</td>\n",
       "      <td>Mozilla</td>\n",
       "      <td>Desktop</td>\n",
       "      <td>0</td>\n",
       "    </tr>\n",
       "    <tr>\n",
       "      <th>2823</th>\n",
       "      <td>IDX59aNVm</td>\n",
       "      <td>15-01-2017 11:37</td>\n",
       "      <td>3872686.0</td>\n",
       "      <td>325317</td>\n",
       "      <td>6906</td>\n",
       "      <td>99510044</td>\n",
       "      <td>a</td>\n",
       "      <td>Firefox</td>\n",
       "      <td>Mobile</td>\n",
       "      <td>0</td>\n",
       "    </tr>\n",
       "    <tr>\n",
       "      <th>561</th>\n",
       "      <td>IDMuKPp5b</td>\n",
       "      <td>20-01-2017 18:55</td>\n",
       "      <td>1466152.0</td>\n",
       "      <td>343856</td>\n",
       "      <td>17714</td>\n",
       "      <td>27723861</td>\n",
       "      <td>a</td>\n",
       "      <td>Google Chrome</td>\n",
       "      <td>Mobile</td>\n",
       "      <td>1</td>\n",
       "    </tr>\n",
       "    <tr>\n",
       "      <th>626</th>\n",
       "      <td>IDYj7Ftgr</td>\n",
       "      <td>17-01-2017 19:51</td>\n",
       "      <td>2341829.0</td>\n",
       "      <td>944752</td>\n",
       "      <td>6906</td>\n",
       "      <td>99510044</td>\n",
       "      <td>c</td>\n",
       "      <td>InternetExplorer</td>\n",
       "      <td>Desktop</td>\n",
       "      <td>1</td>\n",
       "    </tr>\n",
       "    <tr>\n",
       "      <th>431</th>\n",
       "      <td>IDQlsG19F</td>\n",
       "      <td>16-01-2017 22:17</td>\n",
       "      <td>541831.0</td>\n",
       "      <td>88210</td>\n",
       "      <td>33287</td>\n",
       "      <td>86084476</td>\n",
       "      <td>c</td>\n",
       "      <td>Google Chrome</td>\n",
       "      <td>Mobile</td>\n",
       "      <td>1</td>\n",
       "    </tr>\n",
       "  </tbody>\n",
       "</table>\n",
       "</div>"
      ],
      "text/plain": [
       "             ID          datetime     siteid  offerid  category  merchant  \\\n",
       "3422  IDR2SDkSa  12-01-2017 10:35  6725686.0   706864     35368  90093962   \n",
       "2823  IDX59aNVm  15-01-2017 11:37  3872686.0   325317      6906  99510044   \n",
       "561   IDMuKPp5b  20-01-2017 18:55  1466152.0   343856     17714  27723861   \n",
       "626   IDYj7Ftgr  17-01-2017 19:51  2341829.0   944752      6906  99510044   \n",
       "431   IDQlsG19F  16-01-2017 22:17   541831.0    88210     33287  86084476   \n",
       "\n",
       "     countrycode         browserid    devid  click  \n",
       "3422           e           Mozilla  Desktop      0  \n",
       "2823           a           Firefox   Mobile      0  \n",
       "561            a     Google Chrome   Mobile      1  \n",
       "626            c  InternetExplorer  Desktop      1  \n",
       "431            c     Google Chrome   Mobile      1  "
      ]
     },
     "execution_count": 35,
     "metadata": {},
     "output_type": "execute_result"
    }
   ],
   "source": [
    "df_new.head()"
   ]
  },
  {
   "cell_type": "code",
   "execution_count": 36,
   "metadata": {},
   "outputs": [],
   "source": [
    "df_new['datetime'] = pd.to_datetime(df_new['datetime'])\n",
    "df_new['year']= df_new['datetime'].dt.year\n",
    "df_new['month']= df_new['datetime'].dt.month\n",
    "df_new['day']= df_new['datetime'].dt.day\n",
    "df_new['hour']= df_new['datetime'].dt.hour\n",
    "df_new['min']= df_new['datetime'].dt.minute"
   ]
  },
  {
   "cell_type": "markdown",
   "metadata": {},
   "source": [
    "# Checking the correlation of columns "
   ]
  },
  {
   "cell_type": "code",
   "execution_count": 38,
   "metadata": {},
   "outputs": [
    {
     "data": {
      "text/plain": [
       "<matplotlib.axes._subplots.AxesSubplot at 0x20056a08400>"
      ]
     },
     "execution_count": 38,
     "metadata": {},
     "output_type": "execute_result"
    },
    {
     "data": {
      "image/png": "[encoded data removed]",
      "text/plain": [
       "<Figure size 720x576 with 2 Axes>"
      ]
     },
     "metadata": {
      "needs_background": "light"
     },
     "output_type": "display_data"
    }
   ],
   "source": [
    "f, ax = plt.subplots(figsize=(10, 8))\n",
    "corr = df_new.corr()\n",
    "sns.heatmap(corr, mask=np.zeros_like(corr, dtype=np.bool), cmap=sns.diverging_palette(220, 10, as_cmap=True),\n",
    "            square=True, ax=ax)"
   ]
  },
  {
   "cell_type": "code",
   "execution_count": 39,
   "metadata": {},
   "outputs": [
    {
     "data": {
      "text/html": [
       "<div>\n",
       "<style scoped>\n",
       "    .dataframe tbody tr th:only-of-type {\n",
       "        vertical-align: middle;\n",
       "    }\n",
       "\n",
       "    .dataframe tbody tr th {\n",
       "        vertical-align: top;\n",
       "    }\n",
       "\n",
       "    .dataframe thead th {\n",
       "        text-align: right;\n",
       "    }\n",
       "</style>\n",
       "<table border=\"1\" class=\"dataframe\">\n",
       "  <thead>\n",
       "    <tr style=\"text-align: right;\">\n",
       "      <th></th>\n",
       "      <th>ID</th>\n",
       "      <th>click</th>\n",
       "      <th>year</th>\n",
       "      <th>month</th>\n",
       "      <th>day</th>\n",
       "      <th>hour</th>\n",
       "      <th>min</th>\n",
       "      <th>datetime_2017-01-13 00:00:00</th>\n",
       "      <th>datetime_2017-01-13 00:07:00</th>\n",
       "      <th>datetime_2017-01-13 00:17:00</th>\n",
       "      <th>...</th>\n",
       "      <th>browserid_IE</th>\n",
       "      <th>browserid_Internet Explorer</th>\n",
       "      <th>browserid_InternetExplorer</th>\n",
       "      <th>browserid_Mozilla</th>\n",
       "      <th>browserid_Mozilla Firefox</th>\n",
       "      <th>browserid_Opera</th>\n",
       "      <th>browserid_Safari</th>\n",
       "      <th>devid_Desktop</th>\n",
       "      <th>devid_Mobile</th>\n",
       "      <th>devid_Tablet</th>\n",
       "    </tr>\n",
       "  </thead>\n",
       "  <tbody>\n",
       "    <tr>\n",
       "      <th>3422</th>\n",
       "      <td>IDR2SDkSa</td>\n",
       "      <td>0</td>\n",
       "      <td>2017</td>\n",
       "      <td>12</td>\n",
       "      <td>1</td>\n",
       "      <td>10</td>\n",
       "      <td>35</td>\n",
       "      <td>0</td>\n",
       "      <td>0</td>\n",
       "      <td>0</td>\n",
       "      <td>...</td>\n",
       "      <td>0</td>\n",
       "      <td>0</td>\n",
       "      <td>0</td>\n",
       "      <td>1</td>\n",
       "      <td>0</td>\n",
       "      <td>0</td>\n",
       "      <td>0</td>\n",
       "      <td>1</td>\n",
       "      <td>0</td>\n",
       "      <td>0</td>\n",
       "    </tr>\n",
       "    <tr>\n",
       "      <th>2823</th>\n",
       "      <td>IDX59aNVm</td>\n",
       "      <td>0</td>\n",
       "      <td>2017</td>\n",
       "      <td>1</td>\n",
       "      <td>15</td>\n",
       "      <td>11</td>\n",
       "      <td>37</td>\n",
       "      <td>0</td>\n",
       "      <td>0</td>\n",
       "      <td>0</td>\n",
       "      <td>...</td>\n",
       "      <td>0</td>\n",
       "      <td>0</td>\n",
       "      <td>0</td>\n",
       "      <td>0</td>\n",
       "      <td>0</td>\n",
       "      <td>0</td>\n",
       "      <td>0</td>\n",
       "      <td>0</td>\n",
       "      <td>1</td>\n",
       "      <td>0</td>\n",
       "    </tr>\n",
       "    <tr>\n",
       "      <th>561</th>\n",
       "      <td>IDMuKPp5b</td>\n",
       "      <td>1</td>\n",
       "      <td>2017</td>\n",
       "      <td>1</td>\n",
       "      <td>20</td>\n",
       "      <td>18</td>\n",
       "      <td>55</td>\n",
       "      <td>0</td>\n",
       "      <td>0</td>\n",
       "      <td>0</td>\n",
       "      <td>...</td>\n",
       "      <td>0</td>\n",
       "      <td>0</td>\n",
       "      <td>0</td>\n",
       "      <td>0</td>\n",
       "      <td>0</td>\n",
       "      <td>0</td>\n",
       "      <td>0</td>\n",
       "      <td>0</td>\n",
       "      <td>1</td>\n",
       "      <td>0</td>\n",
       "    </tr>\n",
       "    <tr>\n",
       "      <th>626</th>\n",
       "      <td>IDYj7Ftgr</td>\n",
       "      <td>1</td>\n",
       "      <td>2017</td>\n",
       "      <td>1</td>\n",
       "      <td>17</td>\n",
       "      <td>19</td>\n",
       "      <td>51</td>\n",
       "      <td>0</td>\n",
       "      <td>0</td>\n",
       "      <td>0</td>\n",
       "      <td>...</td>\n",
       "      <td>0</td>\n",
       "      <td>0</td>\n",
       "      <td>1</td>\n",
       "      <td>0</td>\n",
       "      <td>0</td>\n",
       "      <td>0</td>\n",
       "      <td>0</td>\n",
       "      <td>1</td>\n",
       "      <td>0</td>\n",
       "      <td>0</td>\n",
       "    </tr>\n",
       "    <tr>\n",
       "      <th>431</th>\n",
       "      <td>IDQlsG19F</td>\n",
       "      <td>1</td>\n",
       "      <td>2017</td>\n",
       "      <td>1</td>\n",
       "      <td>16</td>\n",
       "      <td>22</td>\n",
       "      <td>17</td>\n",
       "      <td>0</td>\n",
       "      <td>0</td>\n",
       "      <td>0</td>\n",
       "      <td>...</td>\n",
       "      <td>0</td>\n",
       "      <td>0</td>\n",
       "      <td>0</td>\n",
       "      <td>0</td>\n",
       "      <td>0</td>\n",
       "      <td>0</td>\n",
       "      <td>0</td>\n",
       "      <td>0</td>\n",
       "      <td>1</td>\n",
       "      <td>0</td>\n",
       "    </tr>\n",
       "  </tbody>\n",
       "</table>\n",
       "<p>5 rows × 13296 columns</p>\n",
       "</div>"
      ],
      "text/plain": [
       "             ID  click  year  month  day  hour  min  \\\n",
       "3422  IDR2SDkSa      0  2017     12    1    10   35   \n",
       "2823  IDX59aNVm      0  2017      1   15    11   37   \n",
       "561   IDMuKPp5b      1  2017      1   20    18   55   \n",
       "626   IDYj7Ftgr      1  2017      1   17    19   51   \n",
       "431   IDQlsG19F      1  2017      1   16    22   17   \n",
       "\n",
       "      datetime_2017-01-13 00:00:00  datetime_2017-01-13 00:07:00  \\\n",
       "3422                             0                             0   \n",
       "2823                             0                             0   \n",
       "561                              0                             0   \n",
       "626                              0                             0   \n",
       "431                              0                             0   \n",
       "\n",
       "      datetime_2017-01-13 00:17:00      ...       browserid_IE  \\\n",
       "3422                             0      ...                  0   \n",
       "2823                             0      ...                  0   \n",
       "561                              0      ...                  0   \n",
       "626                              0      ...                  0   \n",
       "431                              0      ...                  0   \n",
       "\n",
       "      browserid_Internet Explorer  browserid_InternetExplorer  \\\n",
       "3422                            0                           0   \n",
       "2823                            0                           0   \n",
       "561                             0                           0   \n",
       "626                             0                           1   \n",
       "431                             0                           0   \n",
       "\n",
       "      browserid_Mozilla  browserid_Mozilla Firefox  browserid_Opera  \\\n",
       "3422                  1                          0                0   \n",
       "2823                  0                          0                0   \n",
       "561                   0                          0                0   \n",
       "626                   0                          0                0   \n",
       "431                   0                          0                0   \n",
       "\n",
       "      browserid_Safari  devid_Desktop  devid_Mobile  devid_Tablet  \n",
       "3422                 0              1             0             0  \n",
       "2823                 0              0             1             0  \n",
       "561                  0              0             1             0  \n",
       "626                  0              1             0             0  \n",
       "431                  0              0             1             0  \n",
       "\n",
       "[5 rows x 13296 columns]"
      ]
     },
     "execution_count": 39,
     "metadata": {},
     "output_type": "execute_result"
    }
   ],
   "source": [
    "dummies =  pd.get_dummies(df_new,columns=['datetime','siteid','offerid','category','merchant','countrycode','browserid','devid'])\n",
    "dummies.head()"
   ]
  },
  {
   "cell_type": "code",
   "execution_count": 40,
   "metadata": {},
   "outputs": [
    {
     "data": {
      "text/plain": [
       "3422    0\n",
       "2823    0\n",
       "561     1\n",
       "626     1\n",
       "431     1\n",
       "Name: click, dtype: int64"
      ]
     },
     "execution_count": 40,
     "metadata": {},
     "output_type": "execute_result"
    }
   ],
   "source": [
    "y = dummies['click']\n",
    "final = dummies.drop(['ID','click'],axis='columns')\n",
    "y.head()"
   ]
  },
  {
   "cell_type": "code",
   "execution_count": 41,
   "metadata": {},
   "outputs": [
    {
     "name": "stdout",
     "output_type": "stream",
     "text": [
      "Index(['year', 'month', 'day', 'hour', 'min', 'datetime_2017-01-13 00:00:00',\n",
      "       'datetime_2017-01-13 00:07:00', 'datetime_2017-01-13 00:17:00',\n",
      "       'datetime_2017-01-13 01:07:00', 'datetime_2017-01-13 01:24:00',\n",
      "       ...\n",
      "       'browserid_IE', 'browserid_Internet Explorer',\n",
      "       'browserid_InternetExplorer', 'browserid_Mozilla',\n",
      "       'browserid_Mozilla Firefox', 'browserid_Opera', 'browserid_Safari',\n",
      "       'devid_Desktop', 'devid_Mobile', 'devid_Tablet'],\n",
      "      dtype='object', length=13294)\n"
     ]
    }
   ],
   "source": [
    "feature_cols=final.columns\n",
    "print(feature_cols)"
   ]
  },
  {
   "cell_type": "code",
   "execution_count": 42,
   "metadata": {},
   "outputs": [
    {
     "name": "stdout",
     "output_type": "stream",
     "text": [
      "      year  month  day  hour  min  datetime_2017-01-13 00:00:00  \\\n",
      "3422  2017     12    1    10   35                             0   \n",
      "2823  2017      1   15    11   37                             0   \n",
      "561   2017      1   20    18   55                             0   \n",
      "626   2017      1   17    19   51                             0   \n",
      "431   2017      1   16    22   17                             0   \n",
      "\n",
      "      datetime_2017-01-13 00:07:00  datetime_2017-01-13 00:17:00  \\\n",
      "3422                             0                             0   \n",
      "2823                             0                             0   \n",
      "561                              0                             0   \n",
      "626                              0                             0   \n",
      "431                              0                             0   \n",
      "\n",
      "      datetime_2017-01-13 01:07:00  datetime_2017-01-13 01:24:00  \\\n",
      "3422                             0                             0   \n",
      "2823                             0                             0   \n",
      "561                              0                             0   \n",
      "626                              0                             0   \n",
      "431                              0                             0   \n",
      "\n",
      "          ...       browserid_IE  browserid_Internet Explorer  \\\n",
      "3422      ...                  0                            0   \n",
      "2823      ...                  0                            0   \n",
      "561       ...                  0                            0   \n",
      "626       ...                  0                            0   \n",
      "431       ...                  0                            0   \n",
      "\n",
      "      browserid_InternetExplorer  browserid_Mozilla  \\\n",
      "3422                           0                  1   \n",
      "2823                           0                  0   \n",
      "561                            0                  0   \n",
      "626                            1                  0   \n",
      "431                            0                  0   \n",
      "\n",
      "      browserid_Mozilla Firefox  browserid_Opera  browserid_Safari  \\\n",
      "3422                          0                0                 0   \n",
      "2823                          0                0                 0   \n",
      "561                           0                0                 0   \n",
      "626                           0                0                 0   \n",
      "431                           0                0                 0   \n",
      "\n",
      "      devid_Desktop  devid_Mobile  devid_Tablet  \n",
      "3422              1             0             0  \n",
      "2823              0             1             0  \n",
      "561               0             1             0  \n",
      "626               1             0             0  \n",
      "431               0             1             0  \n",
      "\n",
      "[5 rows x 13294 columns]\n",
      "*********************************************************\n",
      "3422    0\n",
      "2823    0\n",
      "561     1\n",
      "626     1\n",
      "431     1\n",
      "Name: click, dtype: int64\n"
     ]
    }
   ],
   "source": [
    "X= final[feature_cols]\n",
    "print(X.head())\n",
    "print(\"*********************************************************\")\n",
    "print(y.head())"
   ]
  },
  {
   "cell_type": "code",
   "execution_count": 43,
   "metadata": {},
   "outputs": [
    {
     "data": {
      "text/plain": [
       "(5000, 13294)"
      ]
     },
     "execution_count": 43,
     "metadata": {},
     "output_type": "execute_result"
    }
   ],
   "source": [
    "normalize_feature = preprocess.scale(final)\n",
    "normalize_feature.shape"
   ]
  },
  {
   "cell_type": "markdown",
   "metadata": {},
   "source": [
    "# Splitting the dataset into training and testing set"
   ]
  },
  {
   "cell_type": "code",
   "execution_count": 54,
   "metadata": {},
   "outputs": [
    {
     "name": "stdout",
     "output_type": "stream",
     "text": [
      "(4000, 13294)\n",
      "(4000,)\n",
      "(1000, 13294)\n",
      "(1000,)\n"
     ]
    }
   ],
   "source": [
    "X_train, X_test, y_train, y_test = train_test_split(X, y, test_size=0.2)\n",
    "# print the size of the traning set:\n",
    "print(X_train.shape)\n",
    "print(y_train.shape)\n",
    "\n",
    "# print the size of the testing set:\n",
    "print(X_test.shape)\n",
    "print(y_test.shape)"
   ]
  },
  {
   "cell_type": "code",
   "execution_count": 55,
   "metadata": {},
   "outputs": [
    {
     "data": {
      "text/plain": [
       "(4000, 13294)"
      ]
     },
     "execution_count": 55,
     "metadata": {},
     "output_type": "execute_result"
    }
   ],
   "source": [
    "X_train.shape"
   ]
  },
  {
   "cell_type": "markdown",
   "metadata": {},
   "source": [
    "# Applying PCA "
   ]
  },
  {
   "cell_type": "code",
   "execution_count": 56,
   "metadata": {},
   "outputs": [
    {
     "name": "stdout",
     "output_type": "stream",
     "text": [
      "X_train (4000, 50)\n",
      "X_test (1000, 50)\n"
     ]
    }
   ],
   "source": [
    "k = 50 # (k is the number of components (new features) after dimensionality reduction)\n",
    "my_pca = PCA(n_components = k)\n",
    "X_Train_new = my_pca. fit_transform(X_train)\n",
    "X_Test_new = my_pca. fit_transform(X_test)\n",
    "print('X_train' , X_Train_new.shape)\n",
    "print('X_test', X_Test_new.shape)\n"
   ]
  },
  {
   "cell_type": "code",
   "execution_count": 29,
   "metadata": {},
   "outputs": [
    {
     "name": "stdout",
     "output_type": "stream",
     "text": [
      "0.990139210770408\n"
     ]
    }
   ],
   "source": [
    "a = my_pca.explained_variance_ratio_.sum() \n",
    "print(a)"
   ]
  },
  {
   "cell_type": "markdown",
   "metadata": {},
   "source": [
    "# Creating models using different Machine Learning Algorithms and fit them with Training data"
   ]
  },
  {
   "cell_type": "code",
   "execution_count": 57,
   "metadata": {},
   "outputs": [],
   "source": [
    "dec_tree=DecisionTreeClassifier() \n",
    "log_reg=LogisticRegression()\n",
    "k=3\n",
    "knn=KNeighborsClassifier(n_neighbors=k)\n",
    "my_RandomForest = RandomForestClassifier(n_estimators = 19, bootstrap = True, random_state=2)"
   ]
  },
  {
   "cell_type": "code",
   "execution_count": 58,
   "metadata": {},
   "outputs": [
    {
     "data": {
      "text/plain": [
       "RandomForestClassifier(bootstrap=True, class_weight=None, criterion='gini',\n",
       "            max_depth=None, max_features='auto', max_leaf_nodes=None,\n",
       "            min_impurity_decrease=0.0, min_impurity_split=None,\n",
       "            min_samples_leaf=1, min_samples_split=2,\n",
       "            min_weight_fraction_leaf=0.0, n_estimators=19, n_jobs=1,\n",
       "            oob_score=False, random_state=2, verbose=0, warm_start=False)"
      ]
     },
     "execution_count": 58,
     "metadata": {},
     "output_type": "execute_result"
    }
   ],
   "source": [
    "log_reg.fit(X_train,y_train)\n",
    "dec_tree.fit(X_train,y_train)\n",
    "knn.fit(X_train,y_train)\n",
    "my_RandomForest.fit(X_train,y_train)"
   ]
  },
  {
   "cell_type": "markdown",
   "metadata": {},
   "source": [
    "# Testing the fitted model on Training Set"
   ]
  },
  {
   "cell_type": "code",
   "execution_count": 59,
   "metadata": {},
   "outputs": [],
   "source": [
    "y_perdict_regression =log_reg.predict(X_test)\n",
    "y_perdict_tree =dec_tree.predict(X_test)\n",
    "y_predict_knn= knn.predict(X_test)\n",
    "predict_my_RandomForest=my_RandomForest.predict(X_test)"
   ]
  },
  {
   "cell_type": "markdown",
   "metadata": {},
   "source": [
    "# Accuracy score of all the trained model"
   ]
  },
  {
   "cell_type": "code",
   "execution_count": 60,
   "metadata": {},
   "outputs": [
    {
     "name": "stdout",
     "output_type": "stream",
     "text": [
      "Random Forest  0.884\n",
      "Logistic Regression 0.877\n",
      "Decision Tree 0.87\n",
      "KNN 0.75\n"
     ]
    }
   ],
   "source": [
    "score_regression=accuracy_score(y_test,y_perdict_regression)\n",
    "score_tree=accuracy_score(y_test, y_perdict_tree)\n",
    "score_knn=accuracy_score(y_test, y_predict_knn)\n",
    "my_RandomForest_accuracy=accuracy_score(y_test,predict_my_RandomForest)\n",
    "\n",
    "print('Random Forest ',my_RandomForest_accuracy)\n",
    "print('Logistic Regression',score_regression)\n",
    "print('Decision Tree',score_tree)\n",
    "print('KNN',score_knn)"
   ]
  },
  {
   "cell_type": "markdown",
   "metadata": {},
   "source": [
    "# True Positive and False Positive"
   ]
  },
  {
   "cell_type": "code",
   "execution_count": 61,
   "metadata": {},
   "outputs": [
    {
     "name": "stdout",
     "output_type": "stream",
     "text": [
      "LogisticRegression\n",
      "[0.         0.14031621 1.        ]\n",
      "[0.         0.89473684 1.        ]\n",
      "\n",
      "\n",
      "\n",
      "\n",
      "KNN\n",
      "[0.         0.25494071 1.        ]\n",
      "[0.         0.75506073 1.        ]\n",
      "\n",
      "\n",
      "\n",
      "\n",
      "Decision Tree\n",
      "[0.         0.14426877 1.        ]\n",
      "[0.         0.88461538 1.        ]\n",
      "\n",
      "\n",
      "\n",
      "\n",
      "Random Forest\n",
      "[0.         0.11067194 1.        ]\n",
      "[0.         0.87854251 1.        ]\n"
     ]
    }
   ],
   "source": [
    "fpr_reg, tpr_reg, thresholds_reg = metrics.roc_curve(y_test.ravel(), y_perdict_regression.ravel())\n",
    "fpr_knn, tpr_knn, thresholds_knn = metrics.roc_curve(y_test.ravel(), y_predict_knn.ravel())\n",
    "fpr_tree, tpr_tree, thresholds_tree = metrics.roc_curve(y_test.ravel(), y_perdict_tree.ravel())\n",
    "fpr_rtree, tpr_rtree, thresholds_rtree = metrics.roc_curve(y_test.ravel(), predict_my_RandomForest.ravel())\n",
    "print(\"LogisticRegression\")\n",
    "print(fpr_reg)\n",
    "print(tpr_reg)\n",
    "print(\"\\n\\n\\n\")\n",
    "print(\"KNN\")\n",
    "print(fpr_knn)\n",
    "print(tpr_knn)\n",
    "print(\"\\n\\n\\n\")\n",
    "print(\"Decision Tree\")\n",
    "print(fpr_tree)\n",
    "print(tpr_tree)\n",
    "print(\"\\n\\n\\n\")\n",
    "print(\"Random Forest\")\n",
    "print(fpr_rtree)\n",
    "print(tpr_rtree)"
   ]
  },
  {
   "cell_type": "code",
   "execution_count": 62,
   "metadata": {},
   "outputs": [
    {
     "name": "stdout",
     "output_type": "stream",
     "text": [
      "AUC Regression\n",
      "0.8772103182858333\n",
      "\n",
      "\n",
      "\n",
      "\n",
      "AUC Tree\n",
      "0.8701733049559136\n",
      "\n",
      "\n",
      "\n",
      "\n",
      "AUC KNN\n",
      "0.7500600086412443\n",
      "\n",
      "\n",
      "\n",
      "\n",
      "AUC Random Forest\n",
      "0.7500600086412443\n"
     ]
    }
   ],
   "source": [
    "# AUC:\n",
    "AUC_reg = metrics.auc(fpr_reg, tpr_reg)\n",
    "AUC_tree = metrics.auc(fpr_tree, tpr_tree)\n",
    "AUC_knn = metrics.auc(fpr_knn, tpr_knn)\n",
    "AUC_rtree = metrics.auc(fpr_rtree, tpr_rtree)\n",
    "print(\"AUC Regression\")\n",
    "print(AUC_reg)\n",
    "print(\"\\n\\n\\n\")\n",
    "print(\"AUC Tree\")\n",
    "print(AUC_tree)\n",
    "print(\"\\n\\n\\n\")\n",
    "print(\"AUC KNN\")\n",
    "print(AUC_knn)\n",
    "print(\"\\n\\n\\n\")\n",
    "print(\"AUC Random Forest\")\n",
    "print(AUC_knn)"
   ]
  },
  {
   "cell_type": "code",
   "execution_count": 63,
   "metadata": {},
   "outputs": [
    {
     "name": "stdout",
     "output_type": "stream",
     "text": [
      "\n",
      "\n",
      "\n",
      "\n"
     ]
    },
    {
     "data": {
      "image/png": "[encoded data removed]",
      "text/plain": [
       "<Figure size 432x288 with 1 Axes>"
      ]
     },
     "metadata": {
      "needs_background": "light"
     },
     "output_type": "display_data"
    }
   ],
   "source": [
    "# The following line will tell Jupyter Notebook to keep the figures inside the explorer page \n",
    "# rather than openng a new figure window:\n",
    "%matplotlib inline\n",
    "\n",
    "plt.figure()\n",
    "\n",
    "# Roc Curve:\n",
    "plt.plot(fpr_reg, tpr_reg, color='red', lw=2, \n",
    "         label='ROC Curve (regression = %0.2f)' % AUC_reg)\n",
    "\n",
    "plt.plot(fpr_tree, tpr_tree, color='green', lw=2, \n",
    "         label='ROC Curve (tree = %0.2f)' % AUC_tree)\n",
    "\n",
    "plt.plot(fpr_knn, tpr_knn, color='yellow', lw=2, \n",
    "         label='ROC Curve (knn = %0.2f)' % AUC_knn)\n",
    "\n",
    "plt.plot(fpr_rtree, tpr_rtree, color='black', lw=2, \n",
    "         label='ROC Curve (Random Forest = %0.2f)' % AUC_rtree)\n",
    "\n",
    "# Random Guess line:\n",
    "plt.plot([0, 1], [0, 1], color='blue', lw=1, linestyle='--')\n",
    "\n",
    "# Defining The Range of X-Axis and Y-Axis:\n",
    "plt.xlim([-0.005, 1.005])\n",
    "plt.ylim([0.0, 1.01])\n",
    "\n",
    "\n",
    "# Labels, Title, Legend:\n",
    "plt.xlabel('False Positive Rate')\n",
    "plt.ylabel('True Positive Rate')\n",
    "plt.title('Receiver operating characteristic')\n",
    "plt.legend(loc=\"lower right\")\n",
    "print(\"\\n\\n\\n\")\n",
    "plt.show()"
   ]
  },
  {
   "cell_type": "code",
   "execution_count": 64,
   "metadata": {},
   "outputs": [
    {
     "name": "stdout",
     "output_type": "stream",
     "text": [
      "0.3507135583350036\n"
     ]
    }
   ],
   "source": [
    "# Calculating \"Mean Square Error\" (MSE):\n",
    "mse = metrics.mean_squared_error(y_test, y_perdict_regression)\n",
    "\n",
    "# Using numpy sqrt function to take the square root and calculate \"Root Mean Square Error\" (RMSE)\n",
    "rmse = np.sqrt(mse)\n",
    "\n",
    "print(rmse)"
   ]
  },
  {
   "cell_type": "markdown",
   "metadata": {},
   "source": [
    "# Plotting of Predicition and Target Label for Logistic Regression."
   ]
  },
  {
   "cell_type": "code",
   "execution_count": 65,
   "metadata": {},
   "outputs": [
    {
     "data": {
      "image/png": "[encoded data removed]",
      "text/plain": [
       "<Figure size 432x288 with 1 Axes>"
      ]
     },
     "metadata": {
      "needs_background": "light"
     },
     "output_type": "display_data"
    }
   ],
   "source": [
    "y_predict_ln = log_reg.predict(X_test)\n",
    "fig, ax = plt.subplots()\n",
    "ax.scatter(y_test, y_predict_ln, edgecolors=(0, 0, 0))\n",
    "ax.plot([y_test.min(), y_test.max()], [y_test.min(), y_test.max()], 'k--', lw=4)\n",
    "ax.set_xlabel('Measured')\n",
    "ax.set_ylabel('Predicted')\n",
    "plt.show()"
   ]
  },
  {
   "cell_type": "markdown",
   "metadata": {},
   "source": [
    "# Cross - Validation in sklearn\n",
    "## 1. Logistic Regression\n"
   ]
  },
  {
   "cell_type": "code",
   "execution_count": 66,
   "metadata": {},
   "outputs": [
    {
     "name": "stdout",
     "output_type": "stream",
     "text": [
      "[0.888 0.9   0.918 0.908 0.904 0.878 0.904 0.926 0.894 0.882]\n"
     ]
    }
   ],
   "source": [
    "accuracy_list = cross_val_score(log_reg,X, y, cv=10, scoring='accuracy')\n",
    "print(accuracy_list)"
   ]
  },
  {
   "cell_type": "code",
   "execution_count": 67,
   "metadata": {},
   "outputs": [
    {
     "name": "stdout",
     "output_type": "stream",
     "text": [
      "Orginial Accuracy 0.877\n",
      "Cross-Validation Accuracy 0.9001999999999999\n"
     ]
    }
   ],
   "source": [
    "# use average of accuracy values as final result\n",
    "accuracy_cv = accuracy_list.mean()\n",
    "print(\"Orginial Accuracy\",score_regression)\n",
    "print(\"Cross-Validation Accuracy\",accuracy_cv)"
   ]
  },
  {
   "cell_type": "markdown",
   "metadata": {},
   "source": [
    "## 2. Decision Tree"
   ]
  },
  {
   "cell_type": "code",
   "execution_count": 68,
   "metadata": {},
   "outputs": [
    {
     "name": "stdout",
     "output_type": "stream",
     "text": [
      "[0.896 0.882 0.894 0.92  0.898 0.86  0.914 0.92  0.888 0.868]\n"
     ]
    }
   ],
   "source": [
    "#Cross-validation for Decision Tree\n",
    "accuracy_list = cross_val_score(dec_tree, X, y, cv=10, scoring='accuracy')\n",
    "print(accuracy_list)"
   ]
  },
  {
   "cell_type": "code",
   "execution_count": 69,
   "metadata": {},
   "outputs": [
    {
     "name": "stdout",
     "output_type": "stream",
     "text": [
      "Orginial Accuracy ==> 0.87\n",
      "Cross-Validation Accuracy ==> 0.8940000000000001\n"
     ]
    }
   ],
   "source": [
    "accuracy_cv = accuracy_list.mean()\n",
    "print(\"Orginial Accuracy ==>\",score_tree)\n",
    "print(\"Cross-Validation Accuracy ==>\",accuracy_cv)"
   ]
  },
  {
   "cell_type": "markdown",
   "metadata": {},
   "source": [
    "## 3. KNN"
   ]
  },
  {
   "cell_type": "code",
   "execution_count": 70,
   "metadata": {},
   "outputs": [
    {
     "name": "stdout",
     "output_type": "stream",
     "text": [
      "[0.774 0.77  0.76  0.788 0.776 0.776 0.79  0.762 0.79  0.744]\n"
     ]
    }
   ],
   "source": [
    "#Cross-validation for KNN\n",
    "accuracy_list = cross_val_score(knn, X, y, cv=10, scoring='accuracy')\n",
    "print(accuracy_list)"
   ]
  },
  {
   "cell_type": "code",
   "execution_count": 71,
   "metadata": {},
   "outputs": [
    {
     "name": "stdout",
     "output_type": "stream",
     "text": [
      "Orginial Accuracy ==> 0.75\n",
      "Cross-Validation Accuracy ==> 0.7729999999999999\n"
     ]
    }
   ],
   "source": [
    "accuracy_cv = accuracy_list.mean()\n",
    "print(\"Orginial Accuracy ==>\",score_knn)\n",
    "print(\"Cross-Validation Accuracy ==>\",accuracy_cv)"
   ]
  },
  {
   "cell_type": "markdown",
   "metadata": {},
   "source": [
    "## 4.  Random Forest"
   ]
  },
  {
   "cell_type": "code",
   "execution_count": 72,
   "metadata": {},
   "outputs": [
    {
     "name": "stdout",
     "output_type": "stream",
     "text": [
      "[0.902 0.904 0.908 0.914 0.902 0.886 0.914 0.932 0.9   0.868]\n"
     ]
    }
   ],
   "source": [
    "#Cross-validation for Random Forest\n",
    "accuracy_list = cross_val_score(my_RandomForest, X, y, cv=10, scoring='accuracy')\n",
    "print(accuracy_list)"
   ]
  },
  {
   "cell_type": "code",
   "execution_count": 73,
   "metadata": {},
   "outputs": [
    {
     "name": "stdout",
     "output_type": "stream",
     "text": [
      "Orginial Accuracy ==> 0.884\n",
      "Cross-Validation Accuracy ==> 0.9030000000000001\n"
     ]
    }
   ],
   "source": [
    "accuracy_cv = accuracy_list.mean()\n",
    "print(\"Orginial Accuracy ==>\",my_RandomForest_accuracy)\n",
    "print(\"Cross-Validation Accuracy ==>\",accuracy_cv)"
   ]
  },
  {
   "cell_type": "markdown",
   "metadata": {},
   "source": [
    "# SVM Implementation"
   ]
  },
  {
   "cell_type": "code",
   "execution_count": 74,
   "metadata": {},
   "outputs": [
    {
     "data": {
      "text/plain": [
       "SVC(C=5, cache_size=200, class_weight=None, coef0=0.0,\n",
       "  decision_function_shape='ovr', degree=3, gamma=0.0005, kernel='rbf',\n",
       "  max_iter=-1, probability=False, random_state=1, shrinking=True,\n",
       "  tol=0.001, verbose=False)"
      ]
     },
     "execution_count": 74,
     "metadata": {},
     "output_type": "execute_result"
    }
   ],
   "source": [
    "svm_model=svm.SVC(C=5, kernel='rbf', gamma=0.0005, random_state=1)\n",
    "svm_model.fit(X_Train_new, y_train)"
   ]
  },
  {
   "cell_type": "code",
   "execution_count": 75,
   "metadata": {},
   "outputs": [
    {
     "name": "stdout",
     "output_type": "stream",
     "text": [
      "0.88\n"
     ]
    }
   ],
   "source": [
    "svm_predict=svm_model.predict(X_Test_new)\n",
    "score_svm = accuracy_score(y_test, svm_predict)\n",
    "print(score_svm)"
   ]
  },
  {
   "cell_type": "code",
   "execution_count": 76,
   "metadata": {},
   "outputs": [
    {
     "name": "stdout",
     "output_type": "stream",
     "text": [
      "Confusion matrix:\n",
      "[[448  58]\n",
      " [ 62 432]]\n"
     ]
    }
   ],
   "source": [
    "confusion_svm = metrics.confusion_matrix(y_test, svm_predict)\n",
    "print(\"Confusion matrix:\")\n",
    "print(confusion_svm)"
   ]
  },
  {
   "cell_type": "code",
   "execution_count": 77,
   "metadata": {},
   "outputs": [
    {
     "name": "stdout",
     "output_type": "stream",
     "text": [
      "[0.888 0.904 0.912 0.906 0.908 0.882 0.914 0.928 0.908 0.884]\n"
     ]
    }
   ],
   "source": [
    "# CV:\n",
    "accuracy_list = cross_val_score(svm_model,X, y, cv=10, scoring='accuracy')\n",
    "print(accuracy_list)"
   ]
  },
  {
   "cell_type": "code",
   "execution_count": 78,
   "metadata": {},
   "outputs": [
    {
     "name": "stdout",
     "output_type": "stream",
     "text": [
      "0.9034000000000001\n"
     ]
    }
   ],
   "source": [
    "# use average of accuracy values as final result\n",
    "accuracy_cv = accuracy_list.mean()\n",
    "print(accuracy_cv)"
   ]
  },
  {
   "cell_type": "code",
   "execution_count": 79,
   "metadata": {},
   "outputs": [
    {
     "data": {
      "image/png": "[encoded data removed]",
      "text/plain": [
       "<Figure size 432x288 with 1 Axes>"
      ]
     },
     "metadata": {
      "needs_background": "light"
     },
     "output_type": "display_data"
    }
   ],
   "source": [
    "y_predict_ln = svm_model.predict(X_Test_new)\n",
    "fig, ax = plt.subplots()\n",
    "ax.scatter(y_test, y_predict_ln, edgecolors=(0, 0, 0))\n",
    "ax.plot([y_test.min(), y_test.max()], [y_test.min(), y_test.max()], 'k--', lw=4)\n",
    "ax.set_xlabel('Measured')\n",
    "ax.set_ylabel('Predicted')\n",
    "plt.show()"
   ]
  },
  {
   "cell_type": "code",
   "execution_count": 80,
   "metadata": {},
   "outputs": [
    {
     "name": "stdout",
     "output_type": "stream",
     "text": [
      "0.34641016151377546\n"
     ]
    }
   ],
   "source": [
    "# Calculating \"Mean Square Error\" (MSE):\n",
    "mse2 = metrics.mean_squared_error(y_test, svm_predict)\n",
    "\n",
    "# Using numpy sqrt function to take the square root and calculate \"Root Mean Square Error\" (RMSE)\n",
    "rmse2 = np.sqrt(mse2)\n",
    "\n",
    "print(rmse2)"
   ]
  }
 ],
 "metadata": {
  "kernelspec": {
   "display_name": "Python 3",
   "language": "python",
   "name": "python3"
  },
  "language_info": {
   "codemirror_mode": {
    "name": "ipython",
    "version": 3
   },
   "file_extension": ".py",
   "mimetype": "text/x-python",
   "name": "python",
   "nbconvert_exporter": "python",
   "pygments_lexer": "ipython3",
   "version": "3.7.0"
  }
 },
 "nbformat": 4,
 "nbformat_minor": 2
}
